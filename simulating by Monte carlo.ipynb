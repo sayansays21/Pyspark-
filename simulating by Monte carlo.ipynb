{
  "nbformat": 4,
  "nbformat_minor": 0,
  "metadata": {
    "colab": {
      "name": "Sukanta_and_birina",
      "provenance": [],
      "collapsed_sections": [],
      "authorship_tag": "ABX9TyN+vPmk1I/BUpInMzfVGT8Y",
      "include_colab_link": true
    },
    "kernelspec": {
      "name": "python3",
      "display_name": "Python 3"
    }
  },
  "cells": [
    {
      "cell_type": "markdown",
      "metadata": {
        "id": "view-in-github",
        "colab_type": "text"
      },
      "source": [
        "<a href=\"https://colab.research.google.com/github/sayansays21/Pyspark-/blob/master/simulating%20by%20Monte%20carlo.ipynb\" target=\"_parent\"><img src=\"https://colab.research.google.com/assets/colab-badge.svg\" alt=\"Open In Colab\"/></a>"
      ]
    },
    {
      "cell_type": "code",
      "metadata": {
        "id": "8I1JVBk0yYvz",
        "colab_type": "code",
        "colab": {}
      },
      "source": [
        "########## Run this code snippet when running for the first time and don't repeat it in future (else it will keep on downloading the same stuffs again and again and\n",
        "########## result in redundant usage of memory)\n",
        "\n",
        "!apt-get install openjdk-8-jdk-headless -qq > /dev/null\n",
        "!wget -q http://apachemirror.wuchna.com/spark/spark-2.4.4/spark-2.4.4-bin-hadoop2.7.tgz\n",
        "!tar xf spark-2.4.4-bin-hadoop2.7.tgz\n",
        "!pip install -q findspark"
      ],
      "execution_count": 0,
      "outputs": []
    },
    {
      "cell_type": "code",
      "metadata": {
        "id": "aMChUxj11_Q0",
        "colab_type": "code",
        "colab": {}
      },
      "source": [
        "import os\n",
        "import findspark\n",
        "\n",
        "os.environ[\"JAVA_HOME\"]   = \"/usr/lib/jvm/java-8-openjdk-amd64\"\n",
        "os.environ[\"SPARK_HOME\"]  = \"/content/spark-2.4.4-bin-hadoop2.7\"\n",
        "findspark.init(\"spark-2.4.4-bin-hadoop2.7\")# SPARK_HOME\n",
        "from pyspark.sql import SparkSession\n",
        "import numpy as np\n",
        "import pandas as pd\n",
        "import random\n",
        "import bisect\n",
        "from pyspark.sql.functions import * \n",
        "from pyspark.sql.types import *\n",
        "from datetime import date\n",
        "spark                      = SparkSession.builder.master(\"local[*]\").getOrCreate()"
      ],
      "execution_count": 0,
      "outputs": []
    },
    {
      "cell_type": "code",
      "metadata": {
        "id": "s0Od730_2K47",
        "colab_type": "code",
        "outputId": "281f8c15-b1e8-4725-a049-6046fa8ffe36",
        "colab": {
          "base_uri": "https://localhost:8080/",
          "height": 170
        }
      },
      "source": [
        "pathname = '/content/Project3.csv'\n",
        "df = spark.read.csv(pathname,header=True,inferSchema=True,sep=\",\")\n",
        "df.show(3,truncate=False)\n"
      ],
      "execution_count": 42,
      "outputs": [
        {
          "output_type": "stream",
          "text": [
            "+---+--------------------+-------+-----+-------------+\n",
            "|_c0|Customer_ID         |Premium|Claim|Current_state|\n",
            "+---+--------------------+-------+-----+-------------+\n",
            "|0  |hobVdDEmlEEzUcvndULm|2886   |16975|0            |\n",
            "|1  |fxBjzsDjwwMKeAFbxsYi|2517   |15191|0            |\n",
            "|2  |ZtdvlVmRJAwbBAfxYpfI|1508   |22967|0            |\n",
            "+---+--------------------+-------+-----+-------------+\n",
            "only showing top 3 rows\n",
            "\n"
          ],
          "name": "stdout"
        }
      ]
    },
    {
      "cell_type": "code",
      "metadata": {
        "id": "WAxJxk2f4dIu",
        "colab_type": "code",
        "colab": {}
      },
      "source": [
        "class Simulate(object):\n",
        "  def __init__(self):\n",
        "    '''\n",
        "      Static proability  matrices provided\n",
        "    '''\n",
        "    self.prob_matrix = np.array([\n",
        "                                [0.95,0.05],[0.99,0.01]\n",
        "                      ])\n",
        "   \n",
        "    self.state     = [0,1]\n",
        "  def get_vector(self,key):\n",
        "    '''\n",
        "      Getting cumulative probability distribution vector corresponding to the current state\n",
        "    '''\n",
        "    return np.cumsum(dict(zip(self.state,[self.prob_matrix[i] for i in range(self.prob_matrix.shape[0])]))[key])\n",
        "  \n",
        "  def generate_next_state(self,key):\n",
        "    '''\n",
        "      Simulating next state\n",
        "    '''\n",
        "    r = random.random()\n",
        "    return self.state[bisect.bisect(self.get_vector(key),r)]\n",
        "  def generate_entire_path(self,key):\n",
        "    '''\n",
        "      Simulates paths with respect to :- simulations and time period\n",
        "    '''\n",
        "    path_info = []\n",
        "    for i in range(5):\n",
        "      if i == 0:\n",
        "        c_state = 0\n",
        "        n_state = key\n",
        "      else:\n",
        "        c_state = n_state\n",
        "        n_state  = self.generate_next_state(c_state)\n",
        "      path_info.append([i+1,c_state,n_state])\n",
        "    return path_info"
      ],
      "execution_count": 0,
      "outputs": []
    },
    {
      "cell_type": "code",
      "metadata": {
        "id": "0T0HGWlRBQz-",
        "colab_type": "code",
        "colab": {}
      },
      "source": [
        "inst = Simulate()\n",
        "path_update = udf(inst.generate_entire_path,ArrayType(ArrayType(IntegerType())))"
      ],
      "execution_count": 0,
      "outputs": []
    },
    {
      "cell_type": "markdown",
      "metadata": {
        "id": "zrpl1jQuP42D",
        "colab_type": "text"
      },
      "source": [
        "strt frm here"
      ]
    },
    {
      "cell_type": "code",
      "metadata": {
        "id": "Ys2mDzPsBgLA",
        "colab_type": "code",
        "outputId": "bcb5d218-4fad-47c5-c892-cdb4dc7ee996",
        "colab": {
          "base_uri": "https://localhost:8080/",
          "height": 289
        }
      },
      "source": [
        "df = df.withColumn('outputs',path_update(df['Current_state']))\n",
        "df = df.cache() ###### This is needed because of the lazy operation nature of pyspark module\n",
        "df.show(10)"
      ],
      "execution_count": 45,
      "outputs": [
        {
          "output_type": "stream",
          "text": [
            "+---+--------------------+-------+-----+-------------+--------------------+\n",
            "|_c0|         Customer_ID|Premium|Claim|Current_state|             outputs|\n",
            "+---+--------------------+-------+-----+-------------+--------------------+\n",
            "|  0|hobVdDEmlEEzUcvndULm|   2886|16975|            0|[[1, 0, 0], [2, 0...|\n",
            "|  1|fxBjzsDjwwMKeAFbxsYi|   2517|15191|            0|[[1, 0, 0], [2, 0...|\n",
            "|  2|ZtdvlVmRJAwbBAfxYpfI|   1508|22967|            0|[[1, 0, 0], [2, 0...|\n",
            "|  3|dxQyxWcPzCjDoOZohZcJ|   1275|23921|            0|[[1, 0, 0], [2, 0...|\n",
            "|  4|bGwmYRjIhyRSQxPDnBOA|   2775|15284|            0|[[1, 0, 0], [2, 0...|\n",
            "|  5|fssQOSIlTBGVHWLikhQT|   2282|28780|            0|[[1, 0, 0], [2, 0...|\n",
            "|  6|IMPRVjYMVcxxibWViEvo|   1096|17064|            0|[[1, 0, 0], [2, 0...|\n",
            "|  7|AJNTXslAYzcMxzyQAZVp|   1249|17738|            0|[[1, 0, 0], [2, 0...|\n",
            "|  8|AgmxXXcgezEcTlYMOWPL|   2000|12750|            0|[[1, 0, 0], [2, 0...|\n",
            "|  9|PIilceQcIaCXsSTWNzIV|   1615|22064|            0|[[1, 0, 0], [2, 0...|\n",
            "+---+--------------------+-------+-----+-------------+--------------------+\n",
            "only showing top 10 rows\n",
            "\n"
          ],
          "name": "stdout"
        }
      ]
    },
    {
      "cell_type": "code",
      "metadata": {
        "id": "5FwOvLAlCruI",
        "colab_type": "code",
        "colab": {
          "base_uri": "https://localhost:8080/",
          "height": 289
        },
        "outputId": "274dd904-96c7-4ae2-f91f-1bffbe30940d"
      },
      "source": [
        "df = df.withColumn('Explode',explode('outputs'))\n",
        "df = df.drop('outputs')\n",
        "df.show(10,truncate=False)"
      ],
      "execution_count": 46,
      "outputs": [
        {
          "output_type": "stream",
          "text": [
            "+---+--------------------+-------+-----+-------------+---------+\n",
            "|_c0|Customer_ID         |Premium|Claim|Current_state|Explode  |\n",
            "+---+--------------------+-------+-----+-------------+---------+\n",
            "|0  |hobVdDEmlEEzUcvndULm|2886   |16975|0            |[1, 0, 0]|\n",
            "|0  |hobVdDEmlEEzUcvndULm|2886   |16975|0            |[2, 0, 0]|\n",
            "|0  |hobVdDEmlEEzUcvndULm|2886   |16975|0            |[3, 0, 0]|\n",
            "|0  |hobVdDEmlEEzUcvndULm|2886   |16975|0            |[4, 0, 0]|\n",
            "|0  |hobVdDEmlEEzUcvndULm|2886   |16975|0            |[5, 0, 0]|\n",
            "|1  |fxBjzsDjwwMKeAFbxsYi|2517   |15191|0            |[1, 0, 0]|\n",
            "|1  |fxBjzsDjwwMKeAFbxsYi|2517   |15191|0            |[2, 0, 1]|\n",
            "|1  |fxBjzsDjwwMKeAFbxsYi|2517   |15191|0            |[3, 1, 0]|\n",
            "|1  |fxBjzsDjwwMKeAFbxsYi|2517   |15191|0            |[4, 0, 0]|\n",
            "|1  |fxBjzsDjwwMKeAFbxsYi|2517   |15191|0            |[5, 0, 0]|\n",
            "+---+--------------------+-------+-----+-------------+---------+\n",
            "only showing top 10 rows\n",
            "\n"
          ],
          "name": "stdout"
        }
      ]
    },
    {
      "cell_type": "code",
      "metadata": {
        "id": "KzO0qgAExvHo",
        "colab_type": "code",
        "colab": {
          "base_uri": "https://localhost:8080/",
          "height": 289
        },
        "outputId": "94da3866-242f-4b54-ec92-3dedeff76ff8"
      },
      "source": [
        "df=df.withColumn(\"Months\",col(\"Explode\").getItem(0))\n",
        "df=df.withColumn(\"Present_state\",col(\"Explode\").getItem(1))\n",
        "df=df.withColumn(\"Next_State\",col(\"Explode\").getItem(2))\n",
        "df=df.drop('Current_state','Explode')\n",
        "df=df.cache()\n",
        "df.show(10,truncate=False)"
      ],
      "execution_count": 47,
      "outputs": [
        {
          "output_type": "stream",
          "text": [
            "+---+--------------------+-------+-----+------+-------------+----------+\n",
            "|_c0|Customer_ID         |Premium|Claim|Months|Present_state|Next_State|\n",
            "+---+--------------------+-------+-----+------+-------------+----------+\n",
            "|0  |hobVdDEmlEEzUcvndULm|2886   |16975|1     |0            |0         |\n",
            "|0  |hobVdDEmlEEzUcvndULm|2886   |16975|2     |0            |0         |\n",
            "|0  |hobVdDEmlEEzUcvndULm|2886   |16975|3     |0            |0         |\n",
            "|0  |hobVdDEmlEEzUcvndULm|2886   |16975|4     |0            |0         |\n",
            "|0  |hobVdDEmlEEzUcvndULm|2886   |16975|5     |0            |0         |\n",
            "|1  |fxBjzsDjwwMKeAFbxsYi|2517   |15191|1     |0            |0         |\n",
            "|1  |fxBjzsDjwwMKeAFbxsYi|2517   |15191|2     |0            |1         |\n",
            "|1  |fxBjzsDjwwMKeAFbxsYi|2517   |15191|3     |1            |0         |\n",
            "|1  |fxBjzsDjwwMKeAFbxsYi|2517   |15191|4     |0            |0         |\n",
            "|1  |fxBjzsDjwwMKeAFbxsYi|2517   |15191|5     |0            |0         |\n",
            "+---+--------------------+-------+-----+------+-------------+----------+\n",
            "only showing top 10 rows\n",
            "\n"
          ],
          "name": "stdout"
        }
      ]
    },
    {
      "cell_type": "code",
      "metadata": {
        "id": "4wzouWFmz5H9",
        "colab_type": "code",
        "colab": {}
      },
      "source": [
        "class Final(object):\n",
        "  def profit_or_loss(self,present_s,next_s,premium,claim):\n",
        "    if (present_s==0 or present_s==1) and next_s==0:\n",
        "      return premium\n",
        "    else:\n",
        "      return (-claim)\n"
      ],
      "execution_count": 0,
      "outputs": []
    },
    {
      "cell_type": "code",
      "metadata": {
        "id": "BUQ7lR2mHtXB",
        "colab_type": "code",
        "colab": {}
      },
      "source": [
        "final=Final()\n",
        "gain=udf(final.profit_or_loss,IntegerType())\n"
      ],
      "execution_count": 0,
      "outputs": []
    },
    {
      "cell_type": "code",
      "metadata": {
        "id": "iA3oiIRJBygq",
        "colab_type": "code",
        "colab": {
          "base_uri": "https://localhost:8080/",
          "height": 289
        },
        "outputId": "f98966ae-488e-4b8d-8786-1d5f41c5798e"
      },
      "source": [
        "df=df.withColumn(\"Gain\",gain(df[\"Present_state\"],df[\"Next_state\"],df[\"Premium\"],df[\"Claim\"]))\n",
        "df=df.cache()\n",
        "df.show(10,truncate=False)"
      ],
      "execution_count": 50,
      "outputs": [
        {
          "output_type": "stream",
          "text": [
            "+---+--------------------+-------+-----+------+-------------+----------+------+\n",
            "|_c0|Customer_ID         |Premium|Claim|Months|Present_state|Next_State|Gain  |\n",
            "+---+--------------------+-------+-----+------+-------------+----------+------+\n",
            "|0  |hobVdDEmlEEzUcvndULm|2886   |16975|1     |0            |0         |2886  |\n",
            "|0  |hobVdDEmlEEzUcvndULm|2886   |16975|2     |0            |0         |2886  |\n",
            "|0  |hobVdDEmlEEzUcvndULm|2886   |16975|3     |0            |0         |2886  |\n",
            "|0  |hobVdDEmlEEzUcvndULm|2886   |16975|4     |0            |0         |2886  |\n",
            "|0  |hobVdDEmlEEzUcvndULm|2886   |16975|5     |0            |0         |2886  |\n",
            "|1  |fxBjzsDjwwMKeAFbxsYi|2517   |15191|1     |0            |0         |2517  |\n",
            "|1  |fxBjzsDjwwMKeAFbxsYi|2517   |15191|2     |0            |1         |-15191|\n",
            "|1  |fxBjzsDjwwMKeAFbxsYi|2517   |15191|3     |1            |0         |2517  |\n",
            "|1  |fxBjzsDjwwMKeAFbxsYi|2517   |15191|4     |0            |0         |2517  |\n",
            "|1  |fxBjzsDjwwMKeAFbxsYi|2517   |15191|5     |0            |0         |2517  |\n",
            "+---+--------------------+-------+-----+------+-------------+----------+------+\n",
            "only showing top 10 rows\n",
            "\n"
          ],
          "name": "stdout"
        }
      ]
    },
    {
      "cell_type": "code",
      "metadata": {
        "id": "Q9WAu18YLt6k",
        "colab_type": "code",
        "colab": {
          "base_uri": "https://localhost:8080/",
          "height": 323
        },
        "outputId": "4670a75e-98b2-4524-f2b9-fbb9b895fe0f"
      },
      "source": [
        "print(\"profit or loss per customer\")\n",
        "df1=df.groupBy('Customer_ID').agg({'Gain':'sum'}).select(\"Customer_ID\",col(\"sum(Gain)\").alias(\"Gain or loss per customer\"),)\n",
        "df1.show(10,truncate=False)\n",
        "print(\"total profit of the company is\",df1.groupBy().sum().collect()[0][0])"
      ],
      "execution_count": 72,
      "outputs": [
        {
          "output_type": "stream",
          "text": [
            "profit or loss per customer\n",
            "+--------------------+-------------------------+\n",
            "|Customer_ID         |Gain or loss per customer|\n",
            "+--------------------+-------------------------+\n",
            "|lMbIDcwCgbDMlWXJctsU|6115                     |\n",
            "|IzbjgqblIZgSxKdUToGC|10525                    |\n",
            "|tTJrdsuDsEelbRRjCVqW|6315                     |\n",
            "|sfKuMbNhICeAkBHYNlsC|7270                     |\n",
            "|gwcIZtJJoBuzbsaWyDDS|5875                     |\n",
            "|XLxKDzHRYdWWPoutgsdx|11060                    |\n",
            "|FFImXPYaynReGdCIEwZT|8110                     |\n",
            "|FAJqzuJvVYbVeVGWSabW|13665                    |\n",
            "|vjTlUlqLILZBTDmZLhKo|5175                     |\n",
            "|tVFfBWwtAbLNrKbOkoxf|-8364                    |\n",
            "+--------------------+-------------------------+\n",
            "only showing top 10 rows\n",
            "\n",
            "total profit of the company is 426692\n"
          ],
          "name": "stdout"
        }
      ]
    },
    {
      "cell_type": "code",
      "metadata": {
        "id": "-JVN4eGHNeJZ",
        "colab_type": "code",
        "colab": {}
      },
      "source": [
        ""
      ],
      "execution_count": 0,
      "outputs": []
    }
  ]
}